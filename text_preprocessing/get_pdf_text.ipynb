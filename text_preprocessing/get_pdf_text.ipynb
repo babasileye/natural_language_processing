{
 "cells": [
  {
   "cell_type": "code",
   "execution_count": 1,
   "id": "9a7460ac",
   "metadata": {},
   "outputs": [],
   "source": [
    "import os\n",
    "from PIL import Image                   # pip3 install pillow\n",
    "from pytesseract import image_to_string # pip3 install pytesseract\n",
    "from pdf2image import convert_from_path # pip3 install pdf2image\n",
    "\n",
    "def get_pdf_text(pdf_file,resolution=100):\n",
    "    \"\"\"\n",
    "    Get text from pdf file\n",
    "    \"\"\"\n",
    "\n",
    "    print(f\"Extracting text from page {pdf_file}\")\n",
    "\n",
    "    pdf_pages=convert_from_path(pdf_file, resolution)\n",
    "    number_of_pages=len(pdf_pages)\n",
    "    document=[None]*number_of_pages\n",
    "    \n",
    "    tmp_file=\"page.jpg\"\n",
    "    \n",
    "    for counter,page in enumerate(pdf_pages):\n",
    "        print(f\"extracting page {counter+1}/{number_of_pages} as text\")\n",
    "        page.save(tmp_file,'JPEG')\n",
    "        document[counter] = image_to_string(Image.open(tmp_file))\n",
    "        \n",
    "    if os.path.exists(tmp_file):\n",
    "        os.remove(tmp_file)\n",
    "\n",
    "    return document"
   ]
  },
  {
   "cell_type": "code",
   "execution_count": 2,
   "id": "1a8ea338",
   "metadata": {
    "scrolled": true
   },
   "outputs": [
    {
     "name": "stdout",
     "output_type": "stream",
     "text": [
      "Extracting text from page data/LÀMMIÑU-RÉEW-MI-AK-GËSTU.pdf\n",
      "extracting page 1/32 as text\n",
      "extracting page 2/32 as text\n",
      "extracting page 3/32 as text\n",
      "extracting page 4/32 as text\n",
      "extracting page 5/32 as text\n",
      "extracting page 6/32 as text\n",
      "extracting page 7/32 as text\n",
      "extracting page 8/32 as text\n",
      "extracting page 9/32 as text\n",
      "extracting page 10/32 as text\n",
      "extracting page 11/32 as text\n",
      "extracting page 12/32 as text\n",
      "extracting page 13/32 as text\n",
      "extracting page 14/32 as text\n",
      "extracting page 15/32 as text\n",
      "extracting page 16/32 as text\n",
      "extracting page 17/32 as text\n",
      "extracting page 18/32 as text\n",
      "extracting page 19/32 as text\n",
      "extracting page 20/32 as text\n",
      "extracting page 21/32 as text\n",
      "extracting page 22/32 as text\n",
      "extracting page 23/32 as text\n",
      "extracting page 24/32 as text\n",
      "extracting page 25/32 as text\n",
      "extracting page 26/32 as text\n",
      "extracting page 27/32 as text\n",
      "extracting page 28/32 as text\n",
      "extracting page 29/32 as text\n",
      "extracting page 30/32 as text\n",
      "extracting page 31/32 as text\n",
      "extracting page 32/32 as text\n",
      "LAMMIRIU REEW MI AK GESTU BU SEEX ANTA JOOB:\n",
      "\n",
      "Ni nga xamente ne pél ci boppam day wax pullo,....? Kon, nga xam ne ni wolof, dégg nga,\n",
      "di barile lu néew, ni pél di barile lu néew, ci ab néhoom, ni la wolof di barile lu néew itam\n",
      "cib néhoom, te lii maninoo koo gis ci lammifi yoo xam ne bokkufiu maam.\n",
      "\n",
      " \n",
      "\n",
      "Kon, pé «p» bii di baat «b» bufiu combofi moom itam buy soppiku di baril day nekk ag faa\n",
      "«fo...\n",
      "\n",
      "Beneen bi man naa itam ne mbaalu ( am xar, ci pél ) baalu; wolof am: mbaam, baal yi. Bat\n",
      "boo xam ne bii dafay tambalee ag miim (m) gu baa (b) tegu (mb) ci lammifiu pél mbaa\n",
      "lammifiu wolof, boo koy baril miim ( m) gi day rot, baa ( b) bi des fi, bu fekkee dafiuy wax\n",
      "rekk, dégg nga lammif wi ni nga war a waxe, waxin wu jub gis nga ko, miim ( m) gi ci baat\n",
      "biy néewal, day rot ci baat biy baril. Rot gi rekk soppi baat bi, mu dal di baril.\n",
      "\n",
      " \n",
      "\n",
      " \n",
      "\n",
      "Kon, gis ngeen mbaalu (am xar) , (baali) ay xar ci lammifiu pél. Ci wolof mbaam, mooy\n",
      "mbaam xam ngeen ko, baam yi la fiu war di wax terewul boo demee ci dékk yi leegi ak xale\n",
      "\n",
      "i, Ai nga xam ne tambali nafioo fatte lammifiu cosaan, amna fiuy wax (mbaam yi), waaye\n",
      "wareesu koo wax; dees a waroon di (baam yi). Kon gis ngeen ne ba tay, ni pél di barile ak\n",
      "ni wolof di barile ben la:\n",
      "\n",
      " \n",
      "\n",
      " \n",
      "\n",
      "Gi joolaa, niki ci noonu; boo faboon tay baatu joolaa: juk, mooy xool nii «jakk» ci wolof,\n",
      "ijuk maa ngi xool ak ijukut xooluma... Ni joolaa di gantale ni la wolof di gantale itam, ut\n",
      "boobu am na te dem ba ci lammifiu Pharaon.\n",
      "\n",
      "Juk, uk,...wolof day wax « jak», « jakkut», manees na koo wax ci wolof «ut», «nangmut»,\n",
      "«defut», «waxut», loolu waxin wolof la. « nangamul», «waxul», «deful» moo gén a bari,\n",
      "waaye fioom fiaar fiépp, bu ci nekk am na ci lammifu firawna, lammifu firawna xam nanu\n",
      "ne-ut, ne-un, nuun gi soppiku ag laam, muy «newul»; am na itam ci lammifiu firawna\n",
      "«newut», Am na fiaar yépp.\n",
      "\n",
      "Kon, gis ngeen ne lammifi yi ma leen wan yépp, gis ngeen kon li fu bokk. Kon, lammia yi,\n",
      "ba jiu tambalee soppiku, booba bindagufiu sax lammifiu tubaab. Moo waral itam lammift\n",
      "yi am waat yoo xam ne fiaare da lay bett; moo waral itam fiu man a wax lool xam ne tay\n",
      "dafa lay bett. Baron ROCHER da daan wax ne boo béggee jang néhum rekk jangal lammifiu\n",
      "wolof, loolu la dan wax.\n",
      "\n",
      "Tubaab yi bi fiu jange sunu lammifi wi dafioo tiit. Dafiu leen cee fekkloo loo xam ne Iii. Mi\n",
      "ngi mel ni ci fioom, daanaka xamufiu naka la sunu lammif yi nii fiu mel, nga xam ne lu nekk\n",
      "man nga cee wax jiu am baati Jéfandikukaay yoo xam ne xalaat bu nekk man na cee génn\n",
      "xamufiu woon fu [ammifi wi dox ba yagsi fi\n",
      "\n",
      " \n",
      "\n",
      " \n",
      "\n",
      "Kon nag gis ngeen fi lammifi wi doxoon te nu fate ko ba uagsi fi, ba doon jaaxal tubaab yi\n",
      "i nga xam ne sax fioo fi Aéwoon ci xarnu bii nu génne, niki Baron ROGER, mu yoroon\n",
      "Réew mi, nekkoon Géornooru Ndar fioom ci seen bopp, li leen jaaxaloon tay, mi ngi ni\n",
      "ko waral!\n",
      "\n",
      " \n",
      "\n",
      "‘Xét. 11\n",
      "\f",
      "\n"
     ]
    }
   ],
   "source": [
    "pdf_file=\"data/LÀMMIÑU-RÉEW-MI-AK-GËSTU.pdf\"\n",
    "text = get_pdf_text(pdf_file,resolution=100)"
   ]
  },
  {
   "cell_type": "code",
   "execution_count": 3,
   "id": "07df869d",
   "metadata": {},
   "outputs": [
    {
     "data": {
      "text/plain": [
       "'LAMMIRIU REEW MI AK GESTU BU SEEX ANTA JOOB:\\n\\nNi nga xamente ne pél ci boppam day wax pullo,....? Kon, nga xam ne ni wolof, dégg nga,\\ndi barile lu néew, ni pél di barile lu néew, ci ab néhoom, ni la wolof di barile lu néew itam\\ncib néhoom, te lii maninoo koo gis ci lammifi yoo xam ne bokkufiu maam.\\n\\n \\n\\nKon, pé «p» bii di baat «b» bufiu combofi moom itam buy soppiku di baril day nekk ag faa\\n«fo...\\n\\nBeneen bi man naa itam ne mbaalu ( am xar, ci pél ) baalu; wolof am: mbaam, baal yi. Bat\\nboo xam ne bii dafay tambalee ag miim (m) gu baa (b) tegu (mb) ci lammifiu pél mbaa\\nlammifiu wolof, boo koy baril miim ( m) gi day rot, baa ( b) bi des fi, bu fekkee dafiuy wax\\nrekk, dégg nga lammif wi ni nga war a waxe, waxin wu jub gis nga ko, miim ( m) gi ci baat\\nbiy néewal, day rot ci baat biy baril. Rot gi rekk soppi baat bi, mu dal di baril.\\n\\n \\n\\n \\n\\nKon, gis ngeen mbaalu (am xar) , (baali) ay xar ci lammifiu pél. Ci wolof mbaam, mooy\\nmbaam xam ngeen ko, baam yi la fiu war di wax terewul boo demee ci dékk yi leegi ak xale\\n\\ni, Ai nga xam ne tambali nafioo fatte lammifiu cosaan, amna fiuy wax (mbaam yi), waaye\\nwareesu koo wax; dees a waroon di (baam yi). Kon gis ngeen ne ba tay, ni pél di barile ak\\nni wolof di barile ben la:\\n\\n \\n\\n \\n\\nGi joolaa, niki ci noonu; boo faboon tay baatu joolaa: juk, mooy xool nii «jakk» ci wolof,\\nijuk maa ngi xool ak ijukut xooluma... Ni joolaa di gantale ni la wolof di gantale itam, ut\\nboobu am na te dem ba ci lammifiu Pharaon.\\n\\nJuk, uk,...wolof day wax « jak», « jakkut», manees na koo wax ci wolof «ut», «nangmut»,\\n«defut», «waxut», loolu waxin wolof la. « nangamul», «waxul», «deful» moo gén a bari,\\nwaaye fioom fiaar fiépp, bu ci nekk am na ci lammifu firawna, lammifu firawna xam nanu\\nne-ut, ne-un, nuun gi soppiku ag laam, muy «newul»; am na itam ci lammifiu firawna\\n«newut», Am na fiaar yépp.\\n\\nKon, gis ngeen ne lammifi yi ma leen wan yépp, gis ngeen kon li fu bokk. Kon, lammia yi,\\nba jiu tambalee soppiku, booba bindagufiu sax lammifiu tubaab. Moo waral itam lammift\\nyi am waat yoo xam ne fiaare da lay bett; moo waral itam fiu man a wax lool xam ne tay\\ndafa lay bett. Baron ROCHER da daan wax ne boo béggee jang néhum rekk jangal lammifiu\\nwolof, loolu la dan wax.\\n\\nTubaab yi bi fiu jange sunu lammifi wi dafioo tiit. Dafiu leen cee fekkloo loo xam ne Iii. Mi\\nngi mel ni ci fioom, daanaka xamufiu naka la sunu lammif yi nii fiu mel, nga xam ne lu nekk\\nman nga cee wax jiu am baati Jéfandikukaay yoo xam ne xalaat bu nekk man na cee génn\\nxamufiu woon fu [ammifi wi dox ba yagsi fi\\n\\n \\n\\n \\n\\nKon nag gis ngeen fi lammifi wi doxoon te nu fate ko ba uagsi fi, ba doon jaaxal tubaab yi\\ni nga xam ne sax fioo fi Aéwoon ci xarnu bii nu génne, niki Baron ROGER, mu yoroon\\nRéew mi, nekkoon Géornooru Ndar fioom ci seen bopp, li leen jaaxaloon tay, mi ngi ni\\nko waral!\\n\\n \\n\\n‘Xét. 11\\n\\x0c'"
      ]
     },
     "execution_count": 3,
     "metadata": {},
     "output_type": "execute_result"
    }
   ],
   "source": [
    "text[10]"
   ]
  },
  {
   "cell_type": "markdown",
   "id": "a55e24ba",
   "metadata": {},
   "source": [
    "### Write a function that put every page of a pdf into a csv file. The pages are in a column named page and there should be a column with the pdf name"
   ]
  },
  {
   "cell_type": "code",
   "execution_count": 8,
   "id": "f3a79f2c",
   "metadata": {},
   "outputs": [
    {
     "data": {
      "text/html": [
       "<div>\n",
       "<style scoped>\n",
       "    .dataframe tbody tr th:only-of-type {\n",
       "        vertical-align: middle;\n",
       "    }\n",
       "\n",
       "    .dataframe tbody tr th {\n",
       "        vertical-align: top;\n",
       "    }\n",
       "\n",
       "    .dataframe thead th {\n",
       "        text-align: right;\n",
       "    }\n",
       "</style>\n",
       "<table border=\"1\" class=\"dataframe\">\n",
       "  <thead>\n",
       "    <tr style=\"text-align: right;\">\n",
       "      <th></th>\n",
       "      <th>page</th>\n",
       "      <th>document</th>\n",
       "    </tr>\n",
       "  </thead>\n",
       "  <tbody>\n",
       "    <tr>\n",
       "      <th>0</th>\n",
       "      <td>AVERTISSEMENT\\n\\n‘Nous sommes heureus, avec An...</td>\n",
       "      <td>data/le_petit_prince.pdf</td>\n",
       "    </tr>\n",
       "    <tr>\n",
       "      <th>1</th>\n",
       "      <td>des patmiers. En outre, le nombre des couchers...</td>\n",
       "      <td>data/le_petit_prince.pdf</td>\n",
       "    </tr>\n",
       "    <tr>\n",
       "      <th>2</th>\n",
       "      <td>Le Patit: Primer\\n</td>\n",
       "      <td>data/le_petit_prince.pdf</td>\n",
       "    </tr>\n",
       "    <tr>\n",
       "      <th>3</th>\n",
       "      <td>\\n\\nw\\n\\no\\n\\nJe-crois qu'il profita, pour so...</td>\n",
       "      <td>data/le_petit_prince.pdf</td>\n",
       "    </tr>\n",
       "    <tr>\n",
       "      <th>4</th>\n",
       "      <td>Antoine de Saint-Exupéry\\n\\nLe Patit Primce\\n\\...</td>\n",
       "      <td>data/le_petit_prince.pdf</td>\n",
       "    </tr>\n",
       "  </tbody>\n",
       "</table>\n",
       "</div>"
      ],
      "text/plain": [
       "                                                page                  document\n",
       "0  AVERTISSEMENT\\n\\n‘Nous sommes heureus, avec An...  data/le_petit_prince.pdf\n",
       "1  des patmiers. En outre, le nombre des couchers...  data/le_petit_prince.pdf\n",
       "2                                Le Patit: Primer\\n\n",
       "  data/le_petit_prince.pdf\n",
       "3   \\n\\nw\\n\\no\\n\\nJe-crois qu'il profita, pour so...  data/le_petit_prince.pdf\n",
       "4  Antoine de Saint-Exupéry\\n\\nLe Patit Primce\\n\\...  data/le_petit_prince.pdf"
      ]
     },
     "execution_count": 8,
     "metadata": {},
     "output_type": "execute_result"
    }
   ],
   "source": [
    "import pandas as pd\n",
    "\n",
    "data=[None]*len(text)\n",
    "\n",
    "for n,page in enumerate(text):\n",
    "    data[n]={'page':page,'document':pdf_file}\n",
    "    \n",
    "df=pd.DataFrame.from_dict(data)\n",
    "df.head()"
   ]
  },
  {
   "cell_type": "code",
   "execution_count": 12,
   "id": "614b2d7f",
   "metadata": {},
   "outputs": [],
   "source": [
    "df.to_csv('data/le_petit_prince.csv',index=False)"
   ]
  },
  {
   "cell_type": "code",
   "execution_count": null,
   "id": "889d958f",
   "metadata": {},
   "outputs": [],
   "source": []
  }
 ],
 "metadata": {
  "kernelspec": {
   "display_name": "Python 3",
   "language": "python",
   "name": "python3"
  },
  "language_info": {
   "codemirror_mode": {
    "name": "ipython",
    "version": 3
   },
   "file_extension": ".py",
   "mimetype": "text/x-python",
   "name": "python",
   "nbconvert_exporter": "python",
   "pygments_lexer": "ipython3",
   "version": "3.7.7"
  }
 },
 "nbformat": 4,
 "nbformat_minor": 5
}
