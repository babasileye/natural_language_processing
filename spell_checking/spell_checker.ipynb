{
 "cells": [
  {
   "cell_type": "code",
   "execution_count": null,
   "metadata": {
    "id": "XGoz6YyAnRdr"
   },
   "outputs": [],
   "source": [
    "import re\n",
    "import string\n",
    "from collections import Counter\n",
    "import numpy as np"
   ]
  },
  {
   "cell_type": "code",
   "execution_count": null,
   "metadata": {
    "id": "rGBxOcg6ne-k"
   },
   "outputs": [],
   "source": [
    "def read_corpus(filename):\n",
    "    \"\"\"\n",
    "    \"\"\"\n",
    "    with open(filename, \"r\") as file:\n",
    "        lines = file.readlines()\n",
    "    words = []\n",
    "    for line in lines:\n",
    "        words += re.findall(r'\\w+', line.lower())\n",
    "\n",
    "    return words"
   ]
  },
  {
   "cell_type": "code",
   "execution_count": null,
   "metadata": {
    "colab": {
     "base_uri": "https://localhost:8080/",
     "height": 35
    },
    "id": "3tjtkL_yoMFH",
    "outputId": "58291b2a-16f9-4ad6-f0b0-08bd4f922e69"
   },
   "outputs": [],
   "source": [
    "words = read_corpus(\"data/les_miserables_victor_hugo.txt\")\n",
    "print(f\"There are {len(words)} total words in the corpus\")"
   ]
  },
  {
   "cell_type": "code",
   "execution_count": null,
   "metadata": {
    "colab": {
     "base_uri": "https://localhost:8080/",
     "height": 35
    },
    "id": "kDKIr2xRoYR6",
    "outputId": "5a226ac6-f36f-4a39-8580-d5c2717f6018"
   },
   "outputs": [],
   "source": [
    "vocabs = set(words)\n",
    "print(f\"There are {len(vocabs)} unique words in the vocabulary\")"
   ]
  },
  {
   "cell_type": "code",
   "execution_count": null,
   "metadata": {
    "colab": {
     "base_uri": "https://localhost:8080/",
     "height": 35
    },
    "id": "S-IesLNUoZpc",
    "outputId": "b6e41f69-64c3-4199-b8ad-df2c502d9862"
   },
   "outputs": [],
   "source": [
    "word_counts = Counter(words)\n",
    "print(word_counts[\"amour\"])"
   ]
  },
  {
   "cell_type": "code",
   "execution_count": null,
   "metadata": {
    "id": "1zqFfdkXo61p"
   },
   "outputs": [],
   "source": [
    "total_word_count = float(sum(word_counts.values()))\n",
    "word_probas = {word: word_counts[word] / total_word_count for word in word_counts.keys()}\n",
    "print(word_probas[\"amour\"])"
   ]
  },
  {
   "cell_type": "code",
   "execution_count": null,
   "metadata": {
    "colab": {
     "base_uri": "https://localhost:8080/",
     "height": 35
    },
    "id": "HAXiYE7KpkSZ",
    "outputId": "79d7b227-0a7f-4052-e7d3-4c16533a86b3"
   },
   "outputs": [],
   "source": [
    "print(word_probas[\"le\"])"
   ]
  },
  {
   "cell_type": "code",
   "execution_count": null,
   "metadata": {
    "id": "bygjIHbCpphy"
   },
   "outputs": [],
   "source": [
    "def split(word):\n",
    "    return [(word[:i], word[i:]) for i in range(len(word) + 1)]"
   ]
  },
  {
   "cell_type": "code",
   "execution_count": null,
   "metadata": {
    "colab": {
     "base_uri": "https://localhost:8080/",
     "height": 35
    },
    "id": "mscT-O_1qAcX",
    "outputId": "8a2dacdf-1793-4fbb-cff2-a86f90cd80de"
   },
   "outputs": [],
   "source": [
    "print(split(\"amour\"))"
   ]
  },
  {
   "cell_type": "code",
   "execution_count": null,
   "metadata": {
    "id": "MGrqsaX4qEZf"
   },
   "outputs": [],
   "source": [
    "def delete(word):\n",
    "    \"\"\"\n",
    "    delete a letter of the input word\n",
    "    \"\"\"\n",
    "    return [l + r[1:] for l,r in split(word) if r]"
   ]
  },
  {
   "cell_type": "code",
   "execution_count": null,
   "metadata": {
    "colab": {
     "base_uri": "https://localhost:8080/",
     "height": 35
    },
    "id": "XfkxBrydrG_V",
    "outputId": "0e05b0ed-f74d-4f61-c3dd-cbb9488c6ec5"
   },
   "outputs": [],
   "source": [
    "print(delete(\"amour\"))"
   ]
  },
  {
   "cell_type": "code",
   "execution_count": null,
   "metadata": {
    "id": "w7IRxUCUrJiL"
   },
   "outputs": [],
   "source": [
    "def swap(word):\n",
    "    \"\"\"\n",
    "    swap two consecutive letters in the word\n",
    "    \"\"\"\n",
    "    return [l + r[1] + r[0] + r[2:] for l, r in split(word) if len(r)>1]"
   ]
  },
  {
   "cell_type": "code",
   "execution_count": null,
   "metadata": {
    "colab": {
     "base_uri": "https://localhost:8080/",
     "height": 35
    },
    "id": "242OacCyrmJR",
    "outputId": "00729ea6-09b9-4289-e38a-723c91108e86"
   },
   "outputs": [],
   "source": [
    "print(swap(\"amour\"))"
   ]
  },
  {
   "cell_type": "code",
   "execution_count": null,
   "metadata": {
    "colab": {
     "base_uri": "https://localhost:8080/",
     "height": 35
    },
    "id": "R7EX_2rhsHT6",
    "outputId": "f9e62c03-4368-4828-b575-660fbc14915f"
   },
   "outputs": [],
   "source": [
    "string.ascii_lowercase"
   ]
  },
  {
   "cell_type": "code",
   "execution_count": null,
   "metadata": {
    "id": "0gxA9BRBrolC"
   },
   "outputs": [],
   "source": [
    "def replace(word):\n",
    "    \"\"\"\n",
    "    replace a letter of the word with another alphabet letter\n",
    "    \"\"\"\n",
    "    letters = string.ascii_lowercase\n",
    "    return [l + c + r[1:] for l, r in split(word) if r for c in letters]"
   ]
  },
  {
   "cell_type": "code",
   "execution_count": null,
   "metadata": {
    "colab": {
     "base_uri": "https://localhost:8080/",
     "height": 55
    },
    "id": "ZPaBwRB6sQ-N",
    "outputId": "835807b2-619c-47ea-f86e-3d2dec184b81"
   },
   "outputs": [],
   "source": [
    "print(replace(\"les\"))"
   ]
  },
  {
   "cell_type": "code",
   "execution_count": null,
   "metadata": {
    "id": "AZKvLwE6sTJu"
   },
   "outputs": [],
   "source": [
    "def insert(word):\n",
    "    \"\"\"\n",
    "    insert a letter of the alphabet into the word\n",
    "    \"\"\"\n",
    "    letters = string.ascii_lowercase\n",
    "    return [l + c + r for l, r in split(word) for c in letters]"
   ]
  },
  {
   "cell_type": "code",
   "execution_count": null,
   "metadata": {
    "colab": {
     "base_uri": "https://localhost:8080/",
     "height": 55
    },
    "id": "ZYc17q1csxuB",
    "outputId": "d69b7bb6-d854-48d6-e894-825c171c3c1c"
   },
   "outputs": [],
   "source": [
    "print(insert(\"amour\"))"
   ]
  },
  {
   "cell_type": "code",
   "execution_count": null,
   "metadata": {
    "id": "Ij3DrMouszUU"
   },
   "outputs": [],
   "source": [
    "def edit1(word):\n",
    "    \"\"\"\n",
    "    list of words at 1 edit distance of the words\n",
    "    \"\"\"\n",
    "    return set(delete(word) + swap(word) + replace(word) + insert(word))"
   ]
  },
  {
   "cell_type": "code",
   "execution_count": null,
   "metadata": {
    "colab": {
     "base_uri": "https://localhost:8080/",
     "height": 55
    },
    "id": "Bsb84qtJtgnX",
    "outputId": "9ace8f4e-482a-43fc-9875-3155ed4b8f65"
   },
   "outputs": [],
   "source": [
    "print(edit1(\"amour\"))"
   ]
  },
  {
   "cell_type": "code",
   "execution_count": null,
   "metadata": {
    "id": "UebE0pNJtkBI"
   },
   "outputs": [],
   "source": [
    "def edit2(word):\n",
    "    \"\"\"\n",
    "    list of words at 2 edit distance of the input word\n",
    "    \"\"\"\n",
    "    return set(e2 for e1 in edit1(word) for e2 in edit1(e1))"
   ]
  },
  {
   "cell_type": "code",
   "execution_count": null,
   "metadata": {
    "colab": {
     "base_uri": "https://localhost:8080/",
     "height": 55
    },
    "id": "z4kmHyg8uKoW",
    "outputId": "733c7317-4848-423e-c01f-acccf43038a3"
   },
   "outputs": [],
   "source": [
    "print(edit2(\"amour\"))"
   ]
  },
  {
   "cell_type": "code",
   "execution_count": null,
   "metadata": {
    "id": "edjN5WhquNF0"
   },
   "outputs": [],
   "source": [
    "def spelling_corrections_proposal(word, vocabulary, word_probabilities):\n",
    "    if word in vocabulary:\n",
    "        print(f\"{word} is already correctly spelt\")\n",
    "        return \n",
    "\n",
    "    suggestions = edit1(word) or edit2(word) or [word]\n",
    "    best_guesses = [w for w in suggestions if w in vocabulary]\n",
    "    words_with_probas=[(w,word_probabilities[w]) for w in best_guesses]\n",
    "    words_with_probas.sort(key=lambda tup: tup[1], reverse=True)\n",
    "    return words_with_probas"
   ]
  },
  {
   "cell_type": "code",
   "execution_count": null,
   "metadata": {
    "colab": {
     "base_uri": "https://localhost:8080/",
     "height": 52
    },
    "id": "00RcIO-MvuPd",
    "outputId": "28c6194e-d126-4b39-b064-ded36fc0dfd9"
   },
   "outputs": [],
   "source": [
    "word = \"famile\"\n",
    "corrections = spelling_corrections_proposal(word, vocabs, word_probas)\n",
    "\n",
    "if corrections:\n",
    "    print(corrections)\n",
    "    correct = corrections[0][0]\n",
    "    print(f\"{correct} is suggested for {word}\")"
   ]
  },
  {
   "cell_type": "code",
   "execution_count": null,
   "metadata": {
    "id": "NVlZSLFEw5_p"
   },
   "outputs": [],
   "source": []
  }
 ],
 "metadata": {
  "colab": {
   "name": "spell_checker_probabilistic_autocorrection_model.ipynb",
   "provenance": []
  },
  "kernelspec": {
   "display_name": "Python 3",
   "language": "python",
   "name": "python3"
  },
  "language_info": {
   "codemirror_mode": {
    "name": "ipython",
    "version": 3
   },
   "file_extension": ".py",
   "mimetype": "text/x-python",
   "name": "python",
   "nbconvert_exporter": "python",
   "pygments_lexer": "ipython3",
   "version": "3.7.7"
  }
 },
 "nbformat": 4,
 "nbformat_minor": 1
}
